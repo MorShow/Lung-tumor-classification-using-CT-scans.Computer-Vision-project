{
 "cells": [
  {
   "cell_type": "code",
   "execution_count": null,
   "id": "initial_id",
   "metadata": {
    "collapsed": true
   },
   "outputs": [],
   "source": [
    "import torch\n",
    "import numpy as np\n",
    "import matplotlib.pyplot as plt\n",
    "\n",
    "from datasets import MalignantLunaDataset"
   ]
  },
  {
   "metadata": {},
   "cell_type": "code",
   "outputs": [],
   "execution_count": null,
   "source": [
    "ds = MalignantLunaDataset(val_stride=10, is_val_set_bool=True)\n",
    "\n",
    "nodules = ds.ben_list + ds.mal_list"
   ],
   "id": "88f6ccc3dcf745b9"
  },
  {
   "metadata": {},
   "cell_type": "code",
   "outputs": [],
   "execution_count": null,
   "source": [
    "is_mal = torch.tensor([n.is_mal_bool for n in nodules])\n",
    "diam = torch.tensor([n.diameter_mm for n in nodules])"
   ],
   "id": "530c5979b09c8570"
  },
  {
   "metadata": {},
   "cell_type": "code",
   "outputs": [],
   "execution_count": null,
   "source": [
    "num_mal = is_mal.sum()\n",
    "num_ben = len(is_mal)- num_mal"
   ],
   "id": "abec9a78d4ea07bc"
  },
  {
   "metadata": {},
   "cell_type": "code",
   "outputs": [],
   "execution_count": null,
   "source": "threshold = torch.linspace(diam.max(), diam.min())",
   "id": "b54b8be43e79e7b2"
  },
  {
   "metadata": {},
   "cell_type": "code",
   "outputs": [],
   "execution_count": null,
   "source": [
    "predictions = (diam[None] >= threshold[:, None])\n",
    "\n",
    "tp_diam = np.logical_and(predictions, is_mal).sum(1).float() / num_mal\n",
    "fp_diam = np.logical_and(predictions, ~is_mal).sum(1).float() / num_ben"
   ],
   "id": "d031dbba919b67fa"
  },
  {
   "metadata": {},
   "cell_type": "code",
   "outputs": [],
   "execution_count": null,
   "source": [
    "fp_diam_diff = fp_diam[1:] - fp_diam[:-1]\n",
    "tp_diam_avg = (tp_diam[1:] + tp_diam[:-1]) / 2\n",
    "\n",
    "auc_diam = (fp_diam_diff * tp_diam_avg).sum()"
   ],
   "id": "6d1a50ec690f2fc8"
  },
  {
   "metadata": {},
   "cell_type": "code",
   "outputs": [],
   "execution_count": null,
   "source": "plt.plot(fp_diam, tp_diam, label=f\"diameter baseline, AUC = {auc_diam:.3f}\")",
   "id": "324f011ef3671e69"
  }
 ],
 "metadata": {
  "kernelspec": {
   "display_name": "Python 3",
   "language": "python",
   "name": "python3"
  },
  "language_info": {
   "codemirror_mode": {
    "name": "ipython",
    "version": 2
   },
   "file_extension": ".py",
   "mimetype": "text/x-python",
   "name": "python",
   "nbconvert_exporter": "python",
   "pygments_lexer": "ipython2",
   "version": "2.7.6"
  }
 },
 "nbformat": 4,
 "nbformat_minor": 5
}
