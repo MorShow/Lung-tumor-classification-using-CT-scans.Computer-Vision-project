{
 "cells": [
  {
   "metadata": {
    "ExecuteTime": {
     "end_time": "2024-08-24T07:58:54.949381Z",
     "start_time": "2024-08-24T07:58:54.808820Z"
    }
   },
   "cell_type": "code",
   "source": [
    "from utils.util import importstr\n",
    "\n",
    "from utils.log import logging\n",
    "log = logging.getLogger(__name__)\n",
    "log.setLevel(logging.INFO)\n",
    "log.setLevel(logging.DEBUG)"
   ],
   "id": "dc9d99aa97145a44",
   "outputs": [],
   "execution_count": 1
  },
  {
   "metadata": {
    "ExecuteTime": {
     "end_time": "2024-08-24T07:58:56.740259Z",
     "start_time": "2024-08-24T07:58:56.708946Z"
    }
   },
   "cell_type": "code",
   "source": [
    "def run(app, *argv):\n",
    "    argv = list(argv)\n",
    "    argv.insert(0, '--num-workers=6')\n",
    "    \n",
    "    log.info(\"Running: {}({!r}).main()\".format(app, argv))\n",
    "    app_cls = importstr(*app.rsplit('.', 1))\n",
    "    app_cls(argv).main()\n",
    "    log.info(\"Finished: {}.{!r}).main()\".format(app, argv))"
   ],
   "id": "44ef5e349483a952",
   "outputs": [],
   "execution_count": 2
  },
  {
   "metadata": {},
   "cell_type": "code",
   "outputs": [],
   "execution_count": null,
   "source": "num_epochs = 20",
   "id": "edca0f867ea9874"
  },
  {
   "metadata": {
    "ExecuteTime": {
     "end_time": "2024-08-27T09:24:19.753730Z",
     "start_time": "2024-08-27T09:24:19.722479Z"
    }
   },
   "cell_type": "code",
   "source": "run('prepcache.LunaCacheApp')",
   "id": "181ffd2151a132c6",
   "outputs": [],
   "execution_count": 1
  },
  {
   "metadata": {},
   "cell_type": "code",
   "outputs": [],
   "execution_count": null,
   "source": [
    "run('training.LunaTrainingApp', f'--epochs={num_epochs}', '--balanced', \n",
    "    '--augmented', '--flip', '--offset', '--scale', '--rotate', '--noise')"
   ],
   "id": "33c9a6fc31b7c369"
  }
 ],
 "metadata": {
  "kernelspec": {
   "display_name": "Python 3",
   "language": "python",
   "name": "python3"
  },
  "language_info": {
   "codemirror_mode": {
    "name": "ipython",
    "version": 2
   },
   "file_extension": ".py",
   "mimetype": "text/x-python",
   "name": "python",
   "nbconvert_exporter": "python",
   "pygments_lexer": "ipython2",
   "version": "2.7.6"
  }
 },
 "nbformat": 4,
 "nbformat_minor": 5
}
